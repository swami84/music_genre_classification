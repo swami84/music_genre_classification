{
 "cells": [
  {
   "cell_type": "code",
   "execution_count": 1,
   "id": "8438d58b",
   "metadata": {},
   "outputs": [],
   "source": [
    "import os\n",
    "import pandas as pd\n",
    "import numpy as np\n",
    "import matplotlib.pyplot as plt\n",
    "import seaborn as sns\n",
    "import librosa\n",
    "from scipy.io import wavfile\n",
    "from tempfile import mktemp\n",
    "from pydub import AudioSegment\n",
    "\n",
    "import tensorflow as tf\n",
    "from tensorflow import keras\n",
    "from sklearn.metrics import accuracy_score, confusion_matrix\n",
    "from sklearn.preprocessing import MinMaxScaler\n",
    "from sklearn.model_selection import train_test_split\n",
    "\n",
    "import gc\n",
    "\n",
    "import warnings\n",
    "warnings.filterwarnings('ignore')"
   ]
  },
  {
   "cell_type": "code",
   "execution_count": 2,
   "id": "57fc78c9",
   "metadata": {},
   "outputs": [
    {
     "data": {
      "text/plain": [
       "{'acoustic': 82,\n",
       " 'alternative': 93,\n",
       " 'blues': 88,\n",
       " 'classical': 74,\n",
       " 'country': 84,\n",
       " 'dance': 92,\n",
       " 'Electronic': 94,\n",
       " 'hardcore': 50,\n",
       " 'hip-hop': 76,\n",
       " 'indie': 86,\n",
       " 'jazz': 71,\n",
       " 'Metal': 90,\n",
       " 'punk': 91,\n",
       " 'rap': 84,\n",
       " 'reggae': 85,\n",
       " 'rnb': 95,\n",
       " 'rock': 93}"
      ]
     },
     "execution_count": 2,
     "metadata": {},
     "output_type": "execute_result"
    }
   ],
   "source": [
    "all_songs_dpath = '../data/wav_files/'\n",
    "genres = os.listdir(all_songs_dpath)\n",
    "genre_dirs = [all_songs_dpath+d + '/' for d in os.listdir(all_songs_dpath)]\n",
    "genre_song_dict = {}\n",
    "for genre, genre_path in zip(genres,genre_dirs):\n",
    "    genre_song_dict[genre] = [genre_path+song for song in os.listdir(genre_path) ]\n",
    "{k:len(v) for k,v in genre_song_dict.items()}"
   ]
  },
  {
   "cell_type": "code",
   "execution_count": 20,
   "id": "518c2129",
   "metadata": {},
   "outputs": [],
   "source": [
    "def generate_mels(song):\n",
    "    corr = (48000/song['sample_rate'])\n",
    "    n_param = int(1000/corr)\n",
    "    if song['sample_rate'] ==44100:\n",
    "        song['raw_data'] = song['raw_data'][:len(song['raw_data'])-1000]\n",
    "    S = librosa.feature.melspectrogram(y=song['raw_data'], sr= song['sample_rate'], n_fft=n_param,n_mels=128, \n",
    "                                       win_length=n_param,hop_length=n_param,fmax = 20000)\n",
    "    S_dB = librosa.power_to_db(S, ref=np.max)\n",
    "    np.save(song['file_path'],S_dB)"
   ]
  },
  {
   "cell_type": "code",
   "execution_count": 21,
   "id": "4501a127",
   "metadata": {},
   "outputs": [],
   "source": [
    "def generate_dict(file, op_path = '../data/song_mels/'):\n",
    "    \n",
    "    sound = AudioSegment.from_file(file)\n",
    "    wname = mktemp('.wav')\n",
    "    sound.export(wname, format=\"wav\") \n",
    "    FS, data = wavfile.read(wname)\n",
    "    \n",
    "    genre = file.split('/')[3]\n",
    "    artist = file.split('/')[-1].split('.wav')[0].split('_')[0]\n",
    "    song = file.split('/')[-1].split('.wav')[0].split('_')[1]\n",
    "    single_chan_data = np.array(data,dtype = np.float32)\n",
    "    if len(data.shape) == 2:\n",
    "        single_chan_data = np.array(data[:,0],dtype = np.float32)\n",
    "\n",
    "    song_dict = []\n",
    "    for i in range(int((len(data)/FS)//60)):\n",
    "        os.makedirs('{0}{1}/'.format(op_path,genre), exist_ok=True)\n",
    "        fn = '{0}{1}/{2}_{3}_part{4}'.format(op_path, genre,artist,song, str(i+1))\n",
    "        song_part_data = single_chan_data[60*i*FS:(i+1)*60*FS]\n",
    "        part_dict = {'genre':genre,'sample_rate':FS, 'artist':artist, 'length':len(single_chan_data),\n",
    "                     'song_name':song, 'raw_data':song_part_data, 'part':i+1,'file_path': fn}\n",
    "        generate_mels(part_dict)\n",
    "\n",
    "        song_chars = {i:part_dict[i] for i in part_dict if i!='raw_data'}\n",
    "        song_dict.append(song_chars)\n",
    "    os.remove(wname)\n",
    "    return song_dict "
   ]
  },
  {
   "cell_type": "code",
   "execution_count": 11,
   "id": "16e68fe3",
   "metadata": {},
   "outputs": [],
   "source": [
    "all_songs_dict = []\n",
    "for genre in genre_song_dict.keys():\n",
    "    for file in genre_song_dict[genre]:\n",
    "        all_songs_dict.extend(generate_dict(file))"
   ]
  },
  {
   "cell_type": "code",
   "execution_count": 12,
   "id": "73960ebf",
   "metadata": {},
   "outputs": [
    {
     "data": {
      "text/html": [
       "<div>\n",
       "<style scoped>\n",
       "    .dataframe tbody tr th:only-of-type {\n",
       "        vertical-align: middle;\n",
       "    }\n",
       "\n",
       "    .dataframe tbody tr th {\n",
       "        vertical-align: top;\n",
       "    }\n",
       "\n",
       "    .dataframe thead th {\n",
       "        text-align: right;\n",
       "    }\n",
       "</style>\n",
       "<table border=\"1\" class=\"dataframe\">\n",
       "  <thead>\n",
       "    <tr style=\"text-align: right;\">\n",
       "      <th></th>\n",
       "      <th>genre</th>\n",
       "      <th>sample_rate</th>\n",
       "      <th>artist</th>\n",
       "      <th>length</th>\n",
       "      <th>song_name</th>\n",
       "      <th>part</th>\n",
       "      <th>file_path</th>\n",
       "    </tr>\n",
       "  </thead>\n",
       "  <tbody>\n",
       "    <tr>\n",
       "      <th>5267</th>\n",
       "      <td>rock</td>\n",
       "      <td>44100</td>\n",
       "      <td>Linkin Park</td>\n",
       "      <td>9147392</td>\n",
       "      <td>What I've Done</td>\n",
       "      <td>2</td>\n",
       "      <td>../data/song_mels/rock/Linkin Park_What I've D...</td>\n",
       "    </tr>\n",
       "    <tr>\n",
       "      <th>1888</th>\n",
       "      <td>dance</td>\n",
       "      <td>44100</td>\n",
       "      <td>Lady Gaga</td>\n",
       "      <td>25157632</td>\n",
       "      <td>Telephone (feat. Beyoncé)</td>\n",
       "      <td>6</td>\n",
       "      <td>../data/song_mels/dance/Lady Gaga_Telephone (f...</td>\n",
       "    </tr>\n",
       "    <tr>\n",
       "      <th>2949</th>\n",
       "      <td>indie</td>\n",
       "      <td>48000</td>\n",
       "      <td>Juzhin</td>\n",
       "      <td>11749669</td>\n",
       "      <td>Railways</td>\n",
       "      <td>3</td>\n",
       "      <td>../data/song_mels/indie/Juzhin_Railways_part3</td>\n",
       "    </tr>\n",
       "    <tr>\n",
       "      <th>3163</th>\n",
       "      <td>jazz</td>\n",
       "      <td>44100</td>\n",
       "      <td>Amy Winehouse</td>\n",
       "      <td>7418880</td>\n",
       "      <td>Love Is a Losing Game</td>\n",
       "      <td>1</td>\n",
       "      <td>../data/song_mels/jazz/Amy Winehouse_Love Is a...</td>\n",
       "    </tr>\n",
       "    <tr>\n",
       "      <th>4019</th>\n",
       "      <td>punk</td>\n",
       "      <td>44100</td>\n",
       "      <td>Sex Pistols</td>\n",
       "      <td>8147968</td>\n",
       "      <td>Bodies</td>\n",
       "      <td>2</td>\n",
       "      <td>../data/song_mels/punk/Sex Pistols_Bodies_part2</td>\n",
       "    </tr>\n",
       "  </tbody>\n",
       "</table>\n",
       "</div>"
      ],
      "text/plain": [
       "      genre  sample_rate         artist    length                  song_name  \\\n",
       "5267   rock        44100    Linkin Park   9147392             What I've Done   \n",
       "1888  dance        44100      Lady Gaga  25157632  Telephone (feat. Beyoncé)   \n",
       "2949  indie        48000         Juzhin  11749669                   Railways   \n",
       "3163   jazz        44100  Amy Winehouse   7418880      Love Is a Losing Game   \n",
       "4019   punk        44100    Sex Pistols   8147968                     Bodies   \n",
       "\n",
       "      part                                          file_path  \n",
       "5267     2  ../data/song_mels/rock/Linkin Park_What I've D...  \n",
       "1888     6  ../data/song_mels/dance/Lady Gaga_Telephone (f...  \n",
       "2949     3      ../data/song_mels/indie/Juzhin_Railways_part3  \n",
       "3163     1  ../data/song_mels/jazz/Amy Winehouse_Love Is a...  \n",
       "4019     2    ../data/song_mels/punk/Sex Pistols_Bodies_part2  "
      ]
     },
     "execution_count": 12,
     "metadata": {},
     "output_type": "execute_result"
    }
   ],
   "source": [
    "df_songs = pd.DataFrame(all_songs_dict)\n",
    "df_songs.to_csv('../data/all_songs.csv', index = False)\n",
    "df_songs.sample(5)"
   ]
  },
  {
   "cell_type": "markdown",
   "id": "77e01439",
   "metadata": {},
   "source": [
    "## Next Step: Use the generated mels in the "
   ]
  }
 ],
 "metadata": {
  "kernelspec": {
   "display_name": "Python 3 (ipykernel)",
   "language": "python",
   "name": "python3"
  },
  "language_info": {
   "codemirror_mode": {
    "name": "ipython",
    "version": 3
   },
   "file_extension": ".py",
   "mimetype": "text/x-python",
   "name": "python",
   "nbconvert_exporter": "python",
   "pygments_lexer": "ipython3",
   "version": "3.10.4"
  }
 },
 "nbformat": 4,
 "nbformat_minor": 5
}
